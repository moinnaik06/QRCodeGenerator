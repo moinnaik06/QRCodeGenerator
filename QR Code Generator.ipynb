{
 "cells": [
  {
   "cell_type": "code",
   "execution_count": 1,
   "id": "freelance-resolution",
   "metadata": {},
   "outputs": [
    {
     "name": "stdout",
     "output_type": "stream",
     "text": [
      "Collecting qrcode[pil]\n",
      "  Downloading qrcode-6.1-py2.py3-none-any.whl (31 kB)\n",
      "Requirement already satisfied: colorama in c:\\users\\moin\\appdata\\local\\programs\\python\\python38-32\\lib\\site-packages (from qrcode[pil]) (0.4.3)\n",
      "Requirement already satisfied: six in c:\\users\\moin\\appdata\\local\\programs\\python\\python38-32\\lib\\site-packages (from qrcode[pil]) (1.15.0)\n",
      "Requirement already satisfied: pillow in c:\\users\\moin\\appdata\\local\\programs\\python\\python38-32\\lib\\site-packages (from qrcode[pil]) (7.1.2)\n",
      "Installing collected packages: qrcode\n",
      "Successfully installed qrcode-6.1\n",
      "Note: you may need to restart the kernel to use updated packages.\n"
     ]
    }
   ],
   "source": [
    "pip install qrcode[pil]"
   ]
  },
  {
   "cell_type": "code",
   "execution_count": 39,
   "id": "promotional-commons",
   "metadata": {},
   "outputs": [],
   "source": [
    "import qrcode\n",
    "import cv2\n",
    "from PIL import Image"
   ]
  },
  {
   "cell_type": "code",
   "execution_count": 40,
   "id": "permanent-entrepreneur",
   "metadata": {},
   "outputs": [],
   "source": [
    "qr = qrcode.QRCode(\n",
    "    version=1,\n",
    "    error_correction=qrcode.constants.ERROR_CORRECT_H,\n",
    "    box_size=10,\n",
    "    border=4,\n",
    ")"
   ]
  },
  {
   "cell_type": "code",
   "execution_count": 41,
   "id": "integral-grace",
   "metadata": {},
   "outputs": [],
   "source": [
    "qr.add_data('moin')\n",
    "qr.make(fit=True)\n",
    "img = qr.make_image(fill_color=\"red\", back_color=\"white\").convert('RGB')"
   ]
  },
  {
   "cell_type": "code",
   "execution_count": 42,
   "id": "amino-survival",
   "metadata": {},
   "outputs": [],
   "source": [
    "img.save(\"sample.png\")"
   ]
  },
  {
   "cell_type": "code",
   "execution_count": 43,
   "id": "demographic-control",
   "metadata": {},
   "outputs": [],
   "source": [
    "logo_display = Image.open('logo.png')"
   ]
  },
  {
   "cell_type": "code",
   "execution_count": 44,
   "id": "split-papua",
   "metadata": {},
   "outputs": [],
   "source": [
    "logo_pos = ((img.size[0] - logo_display.size[0]) // 2, (img.size[1] - logo_display.size[1]) // 2)\n",
    "img.paste(logo_display, logo_pos)"
   ]
  },
  {
   "cell_type": "code",
   "execution_count": 45,
   "id": "adequate-fossil",
   "metadata": {},
   "outputs": [],
   "source": [
    "img.save(\"sample2.png\")"
   ]
  },
  {
   "cell_type": "code",
   "execution_count": 50,
   "id": "identical-quantum",
   "metadata": {},
   "outputs": [
    {
     "data": {
      "text/plain": [
       "True"
      ]
     },
     "execution_count": 50,
     "metadata": {},
     "output_type": "execute_result"
    }
   ],
   "source": [
    "image = cv2.imread('sample.png',cv2.IMREAD_UNCHANGED)\n",
    "\n",
    "position = (100,200)\n",
    "cv2.putText(\n",
    "     image, #numpy array on which text is written\n",
    "     \"Moin\", #text\n",
    "     position, #position at which writing has to start\n",
    "     cv2.FONT_HERSHEY_SIMPLEX, #font family\n",
    "     1, #font size\n",
    "     (0,0,0,0), #font color\n",
    "     3) #font stroke\n",
    "cv2.imwrite('output.png', image)\n"
   ]
  }
 ],
 "metadata": {
  "kernelspec": {
   "display_name": "Python 3",
   "language": "python",
   "name": "python3"
  },
  "language_info": {
   "codemirror_mode": {
    "name": "ipython",
    "version": 3
   },
   "file_extension": ".py",
   "mimetype": "text/x-python",
   "name": "python",
   "nbconvert_exporter": "python",
   "pygments_lexer": "ipython3",
   "version": "3.8.3"
  },
  "toc": {
   "base_numbering": 1,
   "nav_menu": {},
   "number_sections": true,
   "sideBar": true,
   "skip_h1_title": false,
   "title_cell": "Table of Contents",
   "title_sidebar": "Contents",
   "toc_cell": false,
   "toc_position": {},
   "toc_section_display": true,
   "toc_window_display": false
  },
  "varInspector": {
   "cols": {
    "lenName": 16,
    "lenType": 16,
    "lenVar": 40
   },
   "kernels_config": {
    "python": {
     "delete_cmd_postfix": "",
     "delete_cmd_prefix": "del ",
     "library": "var_list.py",
     "varRefreshCmd": "print(var_dic_list())"
    },
    "r": {
     "delete_cmd_postfix": ") ",
     "delete_cmd_prefix": "rm(",
     "library": "var_list.r",
     "varRefreshCmd": "cat(var_dic_list()) "
    }
   },
   "types_to_exclude": [
    "module",
    "function",
    "builtin_function_or_method",
    "instance",
    "_Feature"
   ],
   "window_display": false
  }
 },
 "nbformat": 4,
 "nbformat_minor": 5
}
